{
 "cells": [
  {
   "cell_type": "code",
   "execution_count": 16,
   "id": "6bd8eeb2",
   "metadata": {
    "_cell_guid": "b1076dfc-b9ad-4769-8c92-a6c4dae69d19",
    "_uuid": "8f2839f25d086af736a60e9eeb907d3b93b6e0e5",
    "execution": {
     "iopub.execute_input": "2024-12-19T16:12:23.072144Z",
     "iopub.status.busy": "2024-12-19T16:12:23.071807Z",
     "iopub.status.idle": "2024-12-19T16:12:23.077041Z",
     "shell.execute_reply": "2024-12-19T16:12:23.076067Z"
    },
    "papermill": {
     "duration": 0.012845,
     "end_time": "2024-12-19T16:12:23.079020",
     "exception": false,
     "start_time": "2024-12-19T16:12:23.066175",
     "status": "completed"
    },
    "tags": []
   },
   "outputs": [],
   "source": [
    "# BASE_PATH = '/kaggle/input/dis-project-2-recommender-systems-f2024/'\n",
    "BASE_PATH = './'"
   ]
  },
  {
   "cell_type": "code",
   "execution_count": 17,
   "id": "7955bf28",
   "metadata": {
    "execution": {
     "iopub.execute_input": "2024-12-19T16:12:23.087979Z",
     "iopub.status.busy": "2024-12-19T16:12:23.087612Z",
     "iopub.status.idle": "2024-12-19T16:12:24.994598Z",
     "shell.execute_reply": "2024-12-19T16:12:24.993065Z"
    },
    "papermill": {
     "duration": 1.913603,
     "end_time": "2024-12-19T16:12:24.996622",
     "exception": false,
     "start_time": "2024-12-19T16:12:23.083019",
     "status": "completed"
    },
    "tags": []
   },
   "outputs": [],
   "source": [
    "\n",
    "import numpy as np\n",
    "import pandas as pd\n",
    "from sklearn.metrics import mean_squared_error\n",
    "from sklearn.model_selection import train_test_split\n",
    "from sklearn.metrics.pairwise import cosine_similarity, pairwise_distances\n",
    "from sklearn.preprocessing import MinMaxScaler\n",
    "from scipy.sparse.linalg import svds"
   ]
  },
  {
   "cell_type": "code",
   "execution_count": 18,
   "id": "0952157f",
   "metadata": {
    "execution": {
     "iopub.execute_input": "2024-12-19T16:12:25.005856Z",
     "iopub.status.busy": "2024-12-19T16:12:25.005317Z",
     "iopub.status.idle": "2024-12-19T16:12:25.134849Z",
     "shell.execute_reply": "2024-12-19T16:12:25.133367Z"
    },
    "papermill": {
     "duration": 0.135993,
     "end_time": "2024-12-19T16:12:25.136694",
     "exception": false,
     "start_time": "2024-12-19T16:12:25.000701",
     "status": "completed"
    },
    "tags": []
   },
   "outputs": [
    {
     "name": "stdout",
     "output_type": "stream",
     "text": [
      "Training data shape: (100523, 3)\n",
      "Unique users: 18905\n",
      "Unique books: 15712\n"
     ]
    }
   ],
   "source": [
    "books_df = pd.read_csv(f'{BASE_PATH}/books.csv')\n",
    "df_test =  pd.read_csv(f'{BASE_PATH}/test.csv')\n",
    "df_train = pd.read_csv(f'{BASE_PATH}/train.csv')\n",
    "\n",
    "# Basic Exploration\n",
    "print(\"Training data shape:\", df_train.shape)\n",
    "print(\"Unique users:\", df_train.user_id.nunique())\n",
    "print(\"Unique books:\", df_train.book_id.nunique())"
   ]
  },
  {
   "cell_type": "code",
   "execution_count": 19,
   "id": "c90b454c",
   "metadata": {
    "execution": {
     "iopub.execute_input": "2024-12-19T16:12:25.145889Z",
     "iopub.status.busy": "2024-12-19T16:12:25.145303Z",
     "iopub.status.idle": "2024-12-19T16:12:25.331092Z",
     "shell.execute_reply": "2024-12-19T16:12:25.329533Z"
    },
    "papermill": {
     "duration": 0.192824,
     "end_time": "2024-12-19T16:12:25.333422",
     "exception": false,
     "start_time": "2024-12-19T16:12:25.140598",
     "status": "completed"
    },
    "tags": []
   },
   "outputs": [],
   "source": [
    "def map_ids(data, column_name):\n",
    "    \"\"\"Map data IDs to zero-based indices\"\"\"\n",
    "    unique_ids = data[column_name].unique()\n",
    "    id_to_index = {old: new for new, old in enumerate(unique_ids)}\n",
    "    return data[column_name].map(id_to_index), id_to_index\n",
    "\n",
    "# Applying the mapping function to both train and test data\n",
    "df_train['user_id'], user_mapping = map_ids(df_train, 'user_id')\n",
    "df_train['book_id'], book_mapping = map_ids(df_train, 'book_id')\n",
    "#test_data['user_id'] = test_data['user_id'].map(user_mapping)\n",
    "#test_data['book_id'] = test_data['book_id'].map(book_mapping)\n",
    "\n",
    "n_users = df_train['user_id'].nunique()\n",
    "n_books = df_train['book_id'].nunique()\n",
    "\n",
    "custom_df_test = df_test.copy()\n",
    "\n",
    "custom_df_test['user_id'] = custom_df_test['user_id'].map(user_mapping)\n",
    "custom_df_test['book_id'] = custom_df_test['book_id'].map(book_mapping)"
   ]
  },
  {
   "cell_type": "code",
   "execution_count": 20,
   "id": "9eadd77e",
   "metadata": {
    "execution": {
     "iopub.execute_input": "2024-12-19T16:12:25.342949Z",
     "iopub.status.busy": "2024-12-19T16:12:25.342488Z",
     "iopub.status.idle": "2024-12-19T16:12:25.356410Z",
     "shell.execute_reply": "2024-12-19T16:12:25.355111Z"
    },
    "papermill": {
     "duration": 0.020865,
     "end_time": "2024-12-19T16:12:25.358434",
     "exception": false,
     "start_time": "2024-12-19T16:12:25.337569",
     "status": "completed"
    },
    "tags": []
   },
   "outputs": [],
   "source": [
    "import numpy as np\n",
    "from collections import defaultdict\n",
    "\n",
    "class BiasPredictor:\n",
    "    def __init__(self, store_loss=False):\n",
    "        self.global_mean = 0\n",
    "        self.user_biases = defaultdict(float)\n",
    "        self.item_biases = defaultdict(float)\n",
    "        self.store_loss = False\n",
    "        if store_loss:\n",
    "            self.store_loss = True\n",
    "            self.train_losses = []\n",
    "            self.val_losses = []\n",
    "\n",
    "\n",
    "        \n",
    "    def fit(self, ratings_data, n_epochs=10, learning_rate=0.01, reg_term=0.1, monitor_reg=False):\n",
    "        # Calculate global mean\n",
    "        ratings = [r for _, _, r in ratings_data]\n",
    "        self.global_mean = np.mean(ratings)\n",
    "        \n",
    "        # Train biases using SGD\n",
    "        for epoch in range(n_epochs):\n",
    "            total_error = 0\n",
    "            np.random.shuffle(ratings_data)\n",
    "            \n",
    "            for user_id, item_id, rating in ratings_data:\n",
    "                # Compute current prediction\n",
    "                pred = self.global_mean + self.user_biases[user_id] + self.item_biases[item_id]\n",
    "                \n",
    "                # Compute error\n",
    "                error = rating - pred\n",
    "\n",
    "                if monitor_reg:\n",
    "                    total_error += error ** 2 + reg_term * (self.user_biases[user_id] ** 2 + self.item_biases[item_id] ** 2)\n",
    "                else:\n",
    "                    total_error += error ** 2\n",
    "\n",
    "                # Update biases\n",
    "                self.user_biases[user_id] += learning_rate * (error - reg_term * self.user_biases[user_id])\n",
    "                self.item_biases[item_id] += learning_rate * (error - reg_term * self.item_biases[item_id])\n",
    "\n",
    "            print(f\"Epoch {epoch + 1}, RMSE: {np.sqrt(total_error / len(ratings_data))}\")\n",
    "\n",
    "\n",
    "    def fit_with_validation(self, ratings_data, validation_data, n_epochs=10, learning_rate=0.01, reg_term=0.1,\n",
    "                           patience=5, monitor_reg=False):\n",
    "        # Calculate global mean\n",
    "        ratings = [r for _, _, r in ratings_data]\n",
    "        self.global_mean = np.mean(ratings)\n",
    "        \n",
    "        # Train biases using SGD\n",
    "\n",
    "        best_validation_error = 1e9\n",
    "\n",
    "        reset_counter = 0\n",
    "        \n",
    "        for epoch in range(n_epochs):\n",
    "            total_error = 0\n",
    "            np.random.shuffle(ratings_data)\n",
    "            \n",
    "            for user_id, item_id, rating in ratings_data:\n",
    "                # Compute current prediction\n",
    "                pred = self.global_mean + self.user_biases[user_id] + self.item_biases[item_id]\n",
    "                \n",
    "                # Compute error\n",
    "                error = rating - pred\n",
    "\n",
    "                if monitor_reg:\n",
    "                    total_error += error ** 2 + reg_term * (self.user_biases[user_id] ** 2 + self.item_biases[item_id] ** 2)\n",
    "                else:\n",
    "                    total_error += error ** 2\n",
    "\n",
    "                \n",
    "                # Update biases\n",
    "                self.user_biases[user_id] += learning_rate * (error - reg_term * self.user_biases[user_id])\n",
    "                self.item_biases[item_id] += learning_rate * (error - reg_term * self.item_biases[item_id])\n",
    "\n",
    "\n",
    "            # compute validation error\n",
    "            validation_error = 0\n",
    "            for user_id, item_id, rating in validation_data:\n",
    "                pred = self.global_mean + self.user_biases[user_id] + self.item_biases[item_id]\n",
    "\n",
    "                error = rating - pred\n",
    "                validation_error += error ** 2\n",
    "\n",
    "            if validation_error < best_validation_error:\n",
    "                reset_counter = 0\n",
    "                best_validation_error = validation_error\n",
    "            else:\n",
    "                reset_counter += 1\n",
    "\n",
    "            if self.store_loss:\n",
    "                self.train_losses.append(np.sqrt(total_error / len(ratings_data)))\n",
    "                self.val_losses.append(np.sqrt(validation_error / len(validation_data)))\n",
    "\n",
    "            print(f\"Epoch {epoch + 1}, Train RMSE: {np.sqrt(total_error / len(ratings_data)):.3f} Valid RMSE: {np.sqrt(validation_error/ len(validation_data)):.3f} (Best: {np.sqrt(best_validation_error/len(validation_data)):.3f}) Counter: {reset_counter}\")\n",
    "\n",
    "            if reset_counter > patience:\n",
    "                print(f\"Breaking at epoch {epoch}\")\n",
    "                break\n",
    "    \n",
    "    def predict(self, user_id, item_id):\n",
    "        \"\"\"Predict rating for a user-item pair\"\"\"\n",
    "        return self.global_mean + self.user_biases[user_id] + self.item_biases[item_id]"
   ]
  },
  {
   "cell_type": "code",
   "execution_count": 21,
   "id": "c893974c",
   "metadata": {
    "execution": {
     "iopub.execute_input": "2024-12-19T16:12:25.368181Z",
     "iopub.status.busy": "2024-12-19T16:12:25.367842Z",
     "iopub.status.idle": "2024-12-19T16:12:25.546793Z",
     "shell.execute_reply": "2024-12-19T16:12:25.545651Z"
    },
    "papermill": {
     "duration": 0.185798,
     "end_time": "2024-12-19T16:12:25.548889",
     "exception": false,
     "start_time": "2024-12-19T16:12:25.363091",
     "status": "completed"
    },
    "tags": []
   },
   "outputs": [
    {
     "data": {
      "text/plain": [
       "(100523, (0, 0, 3.5))"
      ]
     },
     "execution_count": 21,
     "metadata": {},
     "output_type": "execute_result"
    }
   ],
   "source": [
    "train_tuples = [(int(x[0]), int(x[1]), float(x[2])) for x in df_train.to_numpy()]\n",
    "len(train_tuples), train_tuples[0]"
   ]
  },
  {
   "cell_type": "code",
   "execution_count": 22,
   "id": "96f9c24a",
   "metadata": {
    "execution": {
     "iopub.execute_input": "2024-12-19T16:12:25.558150Z",
     "iopub.status.busy": "2024-12-19T16:12:25.557783Z",
     "iopub.status.idle": "2024-12-19T16:12:25.562838Z",
     "shell.execute_reply": "2024-12-19T16:12:25.561942Z"
    },
    "papermill": {
     "duration": 0.011613,
     "end_time": "2024-12-19T16:12:25.564591",
     "exception": false,
     "start_time": "2024-12-19T16:12:25.552978",
     "status": "completed"
    },
    "tags": []
   },
   "outputs": [],
   "source": [
    "def evaluate_rmse(model, data):\n",
    "    squared_errors = []\n",
    "    for user_id, item_id, rating in data:\n",
    "        pred = model.predict(user_id, item_id)\n",
    "        squared_errors.append((rating - pred) ** 2)\n",
    "    return np.sqrt(np.mean(squared_errors))"
   ]
  },
  {
   "cell_type": "code",
   "execution_count": 23,
   "id": "31ac67c7",
   "metadata": {
    "execution": {
     "iopub.execute_input": "2024-12-19T16:12:25.573754Z",
     "iopub.status.busy": "2024-12-19T16:12:25.573309Z",
     "iopub.status.idle": "2024-12-19T16:13:18.119377Z",
     "shell.execute_reply": "2024-12-19T16:13:18.118057Z"
    },
    "papermill": {
     "duration": 52.552677,
     "end_time": "2024-12-19T16:13:18.121277",
     "exception": false,
     "start_time": "2024-12-19T16:12:25.568600",
     "status": "completed"
    },
    "tags": []
   },
   "outputs": [
    {
     "name": "stdout",
     "output_type": "stream",
     "text": [
      "Epoch 1, Train RMSE: 1.062 Valid RMSE: 1.043 (Best: 1.043) Counter: 0\n",
      "Epoch 2, Train RMSE: 0.996 Valid RMSE: 1.009 (Best: 1.009) Counter: 0\n",
      "Epoch 3, Train RMSE: 0.953 Valid RMSE: 0.986 (Best: 0.986) Counter: 0\n",
      "Epoch 4, Train RMSE: 0.922 Valid RMSE: 0.971 (Best: 0.971) Counter: 0\n",
      "Epoch 5, Train RMSE: 0.896 Valid RMSE: 0.958 (Best: 0.958) Counter: 0\n",
      "Epoch 6, Train RMSE: 0.875 Valid RMSE: 0.949 (Best: 0.949) Counter: 0\n",
      "Epoch 7, Train RMSE: 0.856 Valid RMSE: 0.941 (Best: 0.941) Counter: 0\n",
      "Epoch 8, Train RMSE: 0.840 Valid RMSE: 0.935 (Best: 0.935) Counter: 0\n",
      "Epoch 9, Train RMSE: 0.826 Valid RMSE: 0.929 (Best: 0.929) Counter: 0\n",
      "Epoch 10, Train RMSE: 0.813 Valid RMSE: 0.924 (Best: 0.924) Counter: 0\n",
      "Epoch 11, Train RMSE: 0.801 Valid RMSE: 0.920 (Best: 0.920) Counter: 0\n",
      "Epoch 12, Train RMSE: 0.790 Valid RMSE: 0.917 (Best: 0.917) Counter: 0\n",
      "Epoch 13, Train RMSE: 0.780 Valid RMSE: 0.914 (Best: 0.914) Counter: 0\n",
      "Epoch 14, Train RMSE: 0.771 Valid RMSE: 0.911 (Best: 0.911) Counter: 0\n",
      "Epoch 15, Train RMSE: 0.763 Valid RMSE: 0.909 (Best: 0.909) Counter: 0\n",
      "Epoch 16, Train RMSE: 0.755 Valid RMSE: 0.907 (Best: 0.907) Counter: 0\n",
      "Epoch 17, Train RMSE: 0.748 Valid RMSE: 0.905 (Best: 0.905) Counter: 0\n",
      "Epoch 18, Train RMSE: 0.742 Valid RMSE: 0.904 (Best: 0.904) Counter: 0\n",
      "Epoch 19, Train RMSE: 0.735 Valid RMSE: 0.903 (Best: 0.903) Counter: 0\n",
      "Epoch 20, Train RMSE: 0.729 Valid RMSE: 0.901 (Best: 0.901) Counter: 0\n",
      "Epoch 21, Train RMSE: 0.724 Valid RMSE: 0.900 (Best: 0.900) Counter: 0\n",
      "Epoch 22, Train RMSE: 0.719 Valid RMSE: 0.899 (Best: 0.899) Counter: 0\n",
      "Epoch 23, Train RMSE: 0.714 Valid RMSE: 0.898 (Best: 0.898) Counter: 0\n",
      "Epoch 24, Train RMSE: 0.709 Valid RMSE: 0.897 (Best: 0.897) Counter: 0\n",
      "Epoch 25, Train RMSE: 0.705 Valid RMSE: 0.897 (Best: 0.897) Counter: 0\n",
      "Epoch 26, Train RMSE: 0.701 Valid RMSE: 0.896 (Best: 0.896) Counter: 0\n",
      "Epoch 27, Train RMSE: 0.697 Valid RMSE: 0.895 (Best: 0.895) Counter: 0\n",
      "Epoch 28, Train RMSE: 0.693 Valid RMSE: 0.895 (Best: 0.895) Counter: 0\n",
      "Epoch 29, Train RMSE: 0.690 Valid RMSE: 0.894 (Best: 0.894) Counter: 0\n",
      "Epoch 30, Train RMSE: 0.686 Valid RMSE: 0.894 (Best: 0.894) Counter: 0\n",
      "Epoch 31, Train RMSE: 0.683 Valid RMSE: 0.894 (Best: 0.894) Counter: 0\n",
      "Epoch 32, Train RMSE: 0.680 Valid RMSE: 0.894 (Best: 0.894) Counter: 0\n",
      "Epoch 33, Train RMSE: 0.677 Valid RMSE: 0.893 (Best: 0.893) Counter: 0\n",
      "Epoch 34, Train RMSE: 0.674 Valid RMSE: 0.893 (Best: 0.893) Counter: 0\n",
      "Epoch 35, Train RMSE: 0.672 Valid RMSE: 0.893 (Best: 0.893) Counter: 0\n",
      "Epoch 36, Train RMSE: 0.669 Valid RMSE: 0.893 (Best: 0.893) Counter: 0\n",
      "Epoch 37, Train RMSE: 0.667 Valid RMSE: 0.893 (Best: 0.893) Counter: 0\n",
      "Epoch 38, Train RMSE: 0.665 Valid RMSE: 0.893 (Best: 0.893) Counter: 0\n",
      "Epoch 39, Train RMSE: 0.662 Valid RMSE: 0.893 (Best: 0.893) Counter: 1\n",
      "Epoch 40, Train RMSE: 0.660 Valid RMSE: 0.893 (Best: 0.893) Counter: 0\n",
      "Epoch 41, Train RMSE: 0.658 Valid RMSE: 0.893 (Best: 0.893) Counter: 1\n",
      "Epoch 42, Train RMSE: 0.656 Valid RMSE: 0.892 (Best: 0.892) Counter: 0\n",
      "Epoch 43, Train RMSE: 0.654 Valid RMSE: 0.893 (Best: 0.892) Counter: 1\n",
      "Epoch 44, Train RMSE: 0.653 Valid RMSE: 0.892 (Best: 0.892) Counter: 0\n",
      "Epoch 45, Train RMSE: 0.651 Valid RMSE: 0.893 (Best: 0.892) Counter: 1\n",
      "Epoch 46, Train RMSE: 0.649 Valid RMSE: 0.892 (Best: 0.892) Counter: 2\n",
      "Epoch 47, Train RMSE: 0.648 Valid RMSE: 0.893 (Best: 0.892) Counter: 3\n",
      "Epoch 48, Train RMSE: 0.646 Valid RMSE: 0.893 (Best: 0.892) Counter: 4\n",
      "Epoch 49, Train RMSE: 0.645 Valid RMSE: 0.893 (Best: 0.892) Counter: 5\n",
      "Epoch 50, Train RMSE: 0.643 Valid RMSE: 0.893 (Best: 0.892) Counter: 6\n",
      "Breaking at epoch 49\n",
      "Epoch 1, Train RMSE: 1.064 Valid RMSE: 1.034 (Best: 1.034) Counter: 0\n",
      "Epoch 2, Train RMSE: 0.997 Valid RMSE: 1.001 (Best: 1.001) Counter: 0\n",
      "Epoch 3, Train RMSE: 0.954 Valid RMSE: 0.979 (Best: 0.979) Counter: 0\n",
      "Epoch 4, Train RMSE: 0.922 Valid RMSE: 0.963 (Best: 0.963) Counter: 0\n",
      "Epoch 5, Train RMSE: 0.896 Valid RMSE: 0.952 (Best: 0.952) Counter: 0\n",
      "Epoch 6, Train RMSE: 0.875 Valid RMSE: 0.942 (Best: 0.942) Counter: 0\n",
      "Epoch 7, Train RMSE: 0.856 Valid RMSE: 0.935 (Best: 0.935) Counter: 0\n",
      "Epoch 8, Train RMSE: 0.840 Valid RMSE: 0.929 (Best: 0.929) Counter: 0\n",
      "Epoch 9, Train RMSE: 0.825 Valid RMSE: 0.924 (Best: 0.924) Counter: 0\n",
      "Epoch 10, Train RMSE: 0.812 Valid RMSE: 0.919 (Best: 0.919) Counter: 0\n",
      "Epoch 11, Train RMSE: 0.801 Valid RMSE: 0.916 (Best: 0.916) Counter: 0\n",
      "Epoch 12, Train RMSE: 0.790 Valid RMSE: 0.912 (Best: 0.912) Counter: 0\n",
      "Epoch 13, Train RMSE: 0.780 Valid RMSE: 0.910 (Best: 0.910) Counter: 0\n",
      "Epoch 14, Train RMSE: 0.771 Valid RMSE: 0.907 (Best: 0.907) Counter: 0\n",
      "Epoch 15, Train RMSE: 0.763 Valid RMSE: 0.905 (Best: 0.905) Counter: 0\n",
      "Epoch 16, Train RMSE: 0.755 Valid RMSE: 0.903 (Best: 0.903) Counter: 0\n",
      "Epoch 17, Train RMSE: 0.748 Valid RMSE: 0.902 (Best: 0.902) Counter: 0\n",
      "Epoch 18, Train RMSE: 0.741 Valid RMSE: 0.900 (Best: 0.900) Counter: 0\n",
      "Epoch 19, Train RMSE: 0.735 Valid RMSE: 0.899 (Best: 0.899) Counter: 0\n",
      "Epoch 20, Train RMSE: 0.729 Valid RMSE: 0.898 (Best: 0.898) Counter: 0\n",
      "Epoch 21, Train RMSE: 0.723 Valid RMSE: 0.897 (Best: 0.897) Counter: 0\n",
      "Epoch 22, Train RMSE: 0.718 Valid RMSE: 0.896 (Best: 0.896) Counter: 0\n",
      "Epoch 23, Train RMSE: 0.713 Valid RMSE: 0.895 (Best: 0.895) Counter: 0\n",
      "Epoch 24, Train RMSE: 0.709 Valid RMSE: 0.895 (Best: 0.895) Counter: 0\n",
      "Epoch 25, Train RMSE: 0.704 Valid RMSE: 0.894 (Best: 0.894) Counter: 0\n",
      "Epoch 26, Train RMSE: 0.700 Valid RMSE: 0.894 (Best: 0.894) Counter: 0\n",
      "Epoch 27, Train RMSE: 0.696 Valid RMSE: 0.893 (Best: 0.893) Counter: 0\n",
      "Epoch 28, Train RMSE: 0.693 Valid RMSE: 0.893 (Best: 0.893) Counter: 0\n",
      "Epoch 29, Train RMSE: 0.689 Valid RMSE: 0.892 (Best: 0.892) Counter: 0\n",
      "Epoch 30, Train RMSE: 0.686 Valid RMSE: 0.892 (Best: 0.892) Counter: 0\n",
      "Epoch 31, Train RMSE: 0.683 Valid RMSE: 0.892 (Best: 0.892) Counter: 0\n",
      "Epoch 32, Train RMSE: 0.680 Valid RMSE: 0.892 (Best: 0.892) Counter: 0\n",
      "Epoch 33, Train RMSE: 0.677 Valid RMSE: 0.892 (Best: 0.892) Counter: 0\n",
      "Epoch 34, Train RMSE: 0.674 Valid RMSE: 0.892 (Best: 0.892) Counter: 0\n",
      "Epoch 35, Train RMSE: 0.671 Valid RMSE: 0.891 (Best: 0.891) Counter: 0\n",
      "Epoch 36, Train RMSE: 0.669 Valid RMSE: 0.891 (Best: 0.891) Counter: 0\n",
      "Epoch 37, Train RMSE: 0.667 Valid RMSE: 0.891 (Best: 0.891) Counter: 0\n",
      "Epoch 38, Train RMSE: 0.664 Valid RMSE: 0.891 (Best: 0.891) Counter: 0\n",
      "Epoch 39, Train RMSE: 0.662 Valid RMSE: 0.891 (Best: 0.891) Counter: 1\n",
      "Epoch 40, Train RMSE: 0.660 Valid RMSE: 0.891 (Best: 0.891) Counter: 0\n",
      "Epoch 41, Train RMSE: 0.658 Valid RMSE: 0.891 (Best: 0.891) Counter: 1\n",
      "Epoch 42, Train RMSE: 0.656 Valid RMSE: 0.891 (Best: 0.891) Counter: 0\n",
      "Epoch 43, Train RMSE: 0.654 Valid RMSE: 0.891 (Best: 0.891) Counter: 1\n",
      "Epoch 44, Train RMSE: 0.652 Valid RMSE: 0.891 (Best: 0.891) Counter: 2\n",
      "Epoch 45, Train RMSE: 0.651 Valid RMSE: 0.891 (Best: 0.891) Counter: 3\n",
      "Epoch 46, Train RMSE: 0.649 Valid RMSE: 0.891 (Best: 0.891) Counter: 4\n",
      "Epoch 47, Train RMSE: 0.647 Valid RMSE: 0.891 (Best: 0.891) Counter: 5\n",
      "Epoch 48, Train RMSE: 0.646 Valid RMSE: 0.892 (Best: 0.891) Counter: 6\n",
      "Breaking at epoch 47\n",
      "Epoch 1, Train RMSE: 1.065 Valid RMSE: 1.031 (Best: 1.031) Counter: 0\n",
      "Epoch 2, Train RMSE: 0.998 Valid RMSE: 0.997 (Best: 0.997) Counter: 0\n",
      "Epoch 3, Train RMSE: 0.955 Valid RMSE: 0.976 (Best: 0.976) Counter: 0\n",
      "Epoch 4, Train RMSE: 0.923 Valid RMSE: 0.960 (Best: 0.960) Counter: 0\n",
      "Epoch 5, Train RMSE: 0.898 Valid RMSE: 0.949 (Best: 0.949) Counter: 0\n",
      "Epoch 6, Train RMSE: 0.876 Valid RMSE: 0.939 (Best: 0.939) Counter: 0\n",
      "Epoch 7, Train RMSE: 0.858 Valid RMSE: 0.932 (Best: 0.932) Counter: 0\n",
      "Epoch 8, Train RMSE: 0.841 Valid RMSE: 0.925 (Best: 0.925) Counter: 0\n",
      "Epoch 9, Train RMSE: 0.827 Valid RMSE: 0.920 (Best: 0.920) Counter: 0\n",
      "Epoch 10, Train RMSE: 0.814 Valid RMSE: 0.916 (Best: 0.916) Counter: 0\n",
      "Epoch 11, Train RMSE: 0.802 Valid RMSE: 0.912 (Best: 0.912) Counter: 0\n",
      "Epoch 12, Train RMSE: 0.791 Valid RMSE: 0.909 (Best: 0.909) Counter: 0\n",
      "Epoch 13, Train RMSE: 0.782 Valid RMSE: 0.906 (Best: 0.906) Counter: 0\n",
      "Epoch 14, Train RMSE: 0.773 Valid RMSE: 0.903 (Best: 0.903) Counter: 0\n",
      "Epoch 15, Train RMSE: 0.764 Valid RMSE: 0.901 (Best: 0.901) Counter: 0\n",
      "Epoch 16, Train RMSE: 0.756 Valid RMSE: 0.899 (Best: 0.899) Counter: 0\n",
      "Epoch 17, Train RMSE: 0.749 Valid RMSE: 0.897 (Best: 0.897) Counter: 0\n",
      "Epoch 18, Train RMSE: 0.742 Valid RMSE: 0.896 (Best: 0.896) Counter: 0\n",
      "Epoch 19, Train RMSE: 0.736 Valid RMSE: 0.895 (Best: 0.895) Counter: 0\n",
      "Epoch 20, Train RMSE: 0.730 Valid RMSE: 0.894 (Best: 0.894) Counter: 0\n",
      "Epoch 21, Train RMSE: 0.725 Valid RMSE: 0.893 (Best: 0.893) Counter: 0\n",
      "Epoch 22, Train RMSE: 0.720 Valid RMSE: 0.892 (Best: 0.892) Counter: 0\n",
      "Epoch 23, Train RMSE: 0.715 Valid RMSE: 0.891 (Best: 0.891) Counter: 0\n",
      "Epoch 24, Train RMSE: 0.710 Valid RMSE: 0.890 (Best: 0.890) Counter: 0\n",
      "Epoch 25, Train RMSE: 0.706 Valid RMSE: 0.890 (Best: 0.890) Counter: 0\n",
      "Epoch 26, Train RMSE: 0.702 Valid RMSE: 0.889 (Best: 0.889) Counter: 0\n",
      "Epoch 27, Train RMSE: 0.698 Valid RMSE: 0.888 (Best: 0.888) Counter: 0\n",
      "Epoch 28, Train RMSE: 0.694 Valid RMSE: 0.888 (Best: 0.888) Counter: 0\n",
      "Epoch 29, Train RMSE: 0.690 Valid RMSE: 0.888 (Best: 0.888) Counter: 0\n",
      "Epoch 30, Train RMSE: 0.687 Valid RMSE: 0.887 (Best: 0.887) Counter: 0\n",
      "Epoch 31, Train RMSE: 0.684 Valid RMSE: 0.887 (Best: 0.887) Counter: 0\n",
      "Epoch 32, Train RMSE: 0.681 Valid RMSE: 0.887 (Best: 0.887) Counter: 0\n",
      "Epoch 33, Train RMSE: 0.678 Valid RMSE: 0.887 (Best: 0.887) Counter: 0\n",
      "Epoch 34, Train RMSE: 0.675 Valid RMSE: 0.887 (Best: 0.887) Counter: 0\n",
      "Epoch 35, Train RMSE: 0.672 Valid RMSE: 0.887 (Best: 0.887) Counter: 1\n",
      "Epoch 36, Train RMSE: 0.670 Valid RMSE: 0.887 (Best: 0.887) Counter: 0\n",
      "Epoch 37, Train RMSE: 0.667 Valid RMSE: 0.886 (Best: 0.886) Counter: 0\n",
      "Epoch 38, Train RMSE: 0.665 Valid RMSE: 0.886 (Best: 0.886) Counter: 0\n",
      "Epoch 39, Train RMSE: 0.663 Valid RMSE: 0.886 (Best: 0.886) Counter: 1\n",
      "Epoch 40, Train RMSE: 0.661 Valid RMSE: 0.886 (Best: 0.886) Counter: 0\n",
      "Epoch 41, Train RMSE: 0.659 Valid RMSE: 0.886 (Best: 0.886) Counter: 1\n",
      "Epoch 42, Train RMSE: 0.657 Valid RMSE: 0.886 (Best: 0.886) Counter: 0\n",
      "Epoch 43, Train RMSE: 0.655 Valid RMSE: 0.886 (Best: 0.886) Counter: 1\n",
      "Epoch 44, Train RMSE: 0.653 Valid RMSE: 0.886 (Best: 0.886) Counter: 2\n",
      "Epoch 45, Train RMSE: 0.651 Valid RMSE: 0.887 (Best: 0.886) Counter: 3\n",
      "Epoch 46, Train RMSE: 0.650 Valid RMSE: 0.887 (Best: 0.886) Counter: 4\n",
      "Epoch 47, Train RMSE: 0.648 Valid RMSE: 0.887 (Best: 0.886) Counter: 5\n",
      "Epoch 48, Train RMSE: 0.647 Valid RMSE: 0.887 (Best: 0.886) Counter: 6\n",
      "Breaking at epoch 47\n",
      "Epoch 1, Train RMSE: 1.063 Valid RMSE: 1.039 (Best: 1.039) Counter: 0\n",
      "Epoch 2, Train RMSE: 0.996 Valid RMSE: 1.005 (Best: 1.005) Counter: 0\n",
      "Epoch 3, Train RMSE: 0.954 Valid RMSE: 0.983 (Best: 0.983) Counter: 0\n",
      "Epoch 4, Train RMSE: 0.922 Valid RMSE: 0.968 (Best: 0.968) Counter: 0\n",
      "Epoch 5, Train RMSE: 0.896 Valid RMSE: 0.956 (Best: 0.956) Counter: 0\n",
      "Epoch 6, Train RMSE: 0.875 Valid RMSE: 0.947 (Best: 0.947) Counter: 0\n",
      "Epoch 7, Train RMSE: 0.856 Valid RMSE: 0.939 (Best: 0.939) Counter: 0\n",
      "Epoch 8, Train RMSE: 0.840 Valid RMSE: 0.933 (Best: 0.933) Counter: 0\n",
      "Epoch 9, Train RMSE: 0.825 Valid RMSE: 0.928 (Best: 0.928) Counter: 0\n",
      "Epoch 10, Train RMSE: 0.812 Valid RMSE: 0.924 (Best: 0.924) Counter: 0\n",
      "Epoch 11, Train RMSE: 0.801 Valid RMSE: 0.920 (Best: 0.920) Counter: 0\n",
      "Epoch 12, Train RMSE: 0.790 Valid RMSE: 0.917 (Best: 0.917) Counter: 0\n",
      "Epoch 13, Train RMSE: 0.780 Valid RMSE: 0.914 (Best: 0.914) Counter: 0\n",
      "Epoch 14, Train RMSE: 0.771 Valid RMSE: 0.911 (Best: 0.911) Counter: 0\n",
      "Epoch 15, Train RMSE: 0.763 Valid RMSE: 0.909 (Best: 0.909) Counter: 0\n",
      "Epoch 16, Train RMSE: 0.755 Valid RMSE: 0.907 (Best: 0.907) Counter: 0\n",
      "Epoch 17, Train RMSE: 0.748 Valid RMSE: 0.906 (Best: 0.906) Counter: 0\n",
      "Epoch 18, Train RMSE: 0.742 Valid RMSE: 0.904 (Best: 0.904) Counter: 0\n",
      "Epoch 19, Train RMSE: 0.735 Valid RMSE: 0.903 (Best: 0.903) Counter: 0\n",
      "Epoch 20, Train RMSE: 0.730 Valid RMSE: 0.902 (Best: 0.902) Counter: 0\n",
      "Epoch 21, Train RMSE: 0.724 Valid RMSE: 0.901 (Best: 0.901) Counter: 0\n",
      "Epoch 22, Train RMSE: 0.719 Valid RMSE: 0.900 (Best: 0.900) Counter: 0\n",
      "Epoch 23, Train RMSE: 0.714 Valid RMSE: 0.899 (Best: 0.899) Counter: 0\n",
      "Epoch 24, Train RMSE: 0.709 Valid RMSE: 0.898 (Best: 0.898) Counter: 0\n",
      "Epoch 25, Train RMSE: 0.705 Valid RMSE: 0.897 (Best: 0.897) Counter: 0\n",
      "Epoch 26, Train RMSE: 0.701 Valid RMSE: 0.897 (Best: 0.897) Counter: 0\n",
      "Epoch 27, Train RMSE: 0.697 Valid RMSE: 0.896 (Best: 0.896) Counter: 0\n",
      "Epoch 28, Train RMSE: 0.693 Valid RMSE: 0.896 (Best: 0.896) Counter: 0\n",
      "Epoch 29, Train RMSE: 0.690 Valid RMSE: 0.896 (Best: 0.896) Counter: 0\n",
      "Epoch 30, Train RMSE: 0.687 Valid RMSE: 0.895 (Best: 0.895) Counter: 0\n",
      "Epoch 31, Train RMSE: 0.684 Valid RMSE: 0.895 (Best: 0.895) Counter: 0\n",
      "Epoch 32, Train RMSE: 0.681 Valid RMSE: 0.895 (Best: 0.895) Counter: 0\n",
      "Epoch 33, Train RMSE: 0.678 Valid RMSE: 0.895 (Best: 0.895) Counter: 0\n",
      "Epoch 34, Train RMSE: 0.675 Valid RMSE: 0.894 (Best: 0.894) Counter: 0\n",
      "Epoch 35, Train RMSE: 0.672 Valid RMSE: 0.894 (Best: 0.894) Counter: 0\n",
      "Epoch 36, Train RMSE: 0.670 Valid RMSE: 0.894 (Best: 0.894) Counter: 0\n",
      "Epoch 37, Train RMSE: 0.667 Valid RMSE: 0.894 (Best: 0.894) Counter: 0\n",
      "Epoch 38, Train RMSE: 0.665 Valid RMSE: 0.894 (Best: 0.894) Counter: 1\n",
      "Epoch 39, Train RMSE: 0.663 Valid RMSE: 0.894 (Best: 0.894) Counter: 0\n",
      "Epoch 40, Train RMSE: 0.661 Valid RMSE: 0.894 (Best: 0.894) Counter: 1\n",
      "Epoch 41, Train RMSE: 0.659 Valid RMSE: 0.894 (Best: 0.894) Counter: 2\n",
      "Epoch 42, Train RMSE: 0.657 Valid RMSE: 0.894 (Best: 0.894) Counter: 3\n",
      "Epoch 43, Train RMSE: 0.655 Valid RMSE: 0.894 (Best: 0.894) Counter: 4\n",
      "Epoch 44, Train RMSE: 0.653 Valid RMSE: 0.894 (Best: 0.894) Counter: 5\n",
      "Epoch 45, Train RMSE: 0.652 Valid RMSE: 0.894 (Best: 0.894) Counter: 6\n",
      "Breaking at epoch 44\n",
      "Epoch 1, Train RMSE: 1.065 Valid RMSE: 1.030 (Best: 1.030) Counter: 0\n",
      "Epoch 2, Train RMSE: 0.998 Valid RMSE: 0.997 (Best: 0.997) Counter: 0\n",
      "Epoch 3, Train RMSE: 0.955 Valid RMSE: 0.975 (Best: 0.975) Counter: 0\n",
      "Epoch 4, Train RMSE: 0.923 Valid RMSE: 0.959 (Best: 0.959) Counter: 0\n",
      "Epoch 5, Train RMSE: 0.898 Valid RMSE: 0.948 (Best: 0.948) Counter: 0\n",
      "Epoch 6, Train RMSE: 0.876 Valid RMSE: 0.939 (Best: 0.939) Counter: 0\n",
      "Epoch 7, Train RMSE: 0.857 Valid RMSE: 0.931 (Best: 0.931) Counter: 0\n",
      "Epoch 8, Train RMSE: 0.841 Valid RMSE: 0.925 (Best: 0.925) Counter: 0\n",
      "Epoch 9, Train RMSE: 0.826 Valid RMSE: 0.920 (Best: 0.920) Counter: 0\n",
      "Epoch 10, Train RMSE: 0.813 Valid RMSE: 0.915 (Best: 0.915) Counter: 0\n",
      "Epoch 11, Train RMSE: 0.802 Valid RMSE: 0.912 (Best: 0.912) Counter: 0\n",
      "Epoch 12, Train RMSE: 0.791 Valid RMSE: 0.909 (Best: 0.909) Counter: 0\n",
      "Epoch 13, Train RMSE: 0.781 Valid RMSE: 0.906 (Best: 0.906) Counter: 0\n",
      "Epoch 14, Train RMSE: 0.772 Valid RMSE: 0.904 (Best: 0.904) Counter: 0\n",
      "Epoch 15, Train RMSE: 0.764 Valid RMSE: 0.901 (Best: 0.901) Counter: 0\n",
      "Epoch 16, Train RMSE: 0.756 Valid RMSE: 0.900 (Best: 0.900) Counter: 0\n",
      "Epoch 17, Train RMSE: 0.749 Valid RMSE: 0.898 (Best: 0.898) Counter: 0\n",
      "Epoch 18, Train RMSE: 0.742 Valid RMSE: 0.897 (Best: 0.897) Counter: 0\n",
      "Epoch 19, Train RMSE: 0.736 Valid RMSE: 0.895 (Best: 0.895) Counter: 0\n",
      "Epoch 20, Train RMSE: 0.730 Valid RMSE: 0.894 (Best: 0.894) Counter: 0\n",
      "Epoch 21, Train RMSE: 0.724 Valid RMSE: 0.893 (Best: 0.893) Counter: 0\n",
      "Epoch 22, Train RMSE: 0.719 Valid RMSE: 0.893 (Best: 0.893) Counter: 0\n",
      "Epoch 23, Train RMSE: 0.714 Valid RMSE: 0.892 (Best: 0.892) Counter: 0\n",
      "Epoch 24, Train RMSE: 0.710 Valid RMSE: 0.891 (Best: 0.891) Counter: 0\n",
      "Epoch 25, Train RMSE: 0.705 Valid RMSE: 0.891 (Best: 0.891) Counter: 0\n",
      "Epoch 26, Train RMSE: 0.701 Valid RMSE: 0.890 (Best: 0.890) Counter: 0\n",
      "Epoch 27, Train RMSE: 0.697 Valid RMSE: 0.890 (Best: 0.890) Counter: 0\n",
      "Epoch 28, Train RMSE: 0.694 Valid RMSE: 0.889 (Best: 0.889) Counter: 0\n",
      "Epoch 29, Train RMSE: 0.690 Valid RMSE: 0.889 (Best: 0.889) Counter: 0\n",
      "Epoch 30, Train RMSE: 0.687 Valid RMSE: 0.889 (Best: 0.889) Counter: 0\n",
      "Epoch 31, Train RMSE: 0.684 Valid RMSE: 0.889 (Best: 0.889) Counter: 0\n",
      "Epoch 32, Train RMSE: 0.681 Valid RMSE: 0.888 (Best: 0.888) Counter: 0\n",
      "Epoch 33, Train RMSE: 0.678 Valid RMSE: 0.888 (Best: 0.888) Counter: 0\n",
      "Epoch 34, Train RMSE: 0.675 Valid RMSE: 0.888 (Best: 0.888) Counter: 0\n",
      "Epoch 35, Train RMSE: 0.672 Valid RMSE: 0.888 (Best: 0.888) Counter: 0\n",
      "Epoch 36, Train RMSE: 0.670 Valid RMSE: 0.888 (Best: 0.888) Counter: 0\n",
      "Epoch 37, Train RMSE: 0.667 Valid RMSE: 0.888 (Best: 0.888) Counter: 1\n",
      "Epoch 38, Train RMSE: 0.665 Valid RMSE: 0.888 (Best: 0.888) Counter: 0\n",
      "Epoch 39, Train RMSE: 0.663 Valid RMSE: 0.888 (Best: 0.888) Counter: 1\n",
      "Epoch 40, Train RMSE: 0.661 Valid RMSE: 0.888 (Best: 0.888) Counter: 2\n",
      "Epoch 41, Train RMSE: 0.659 Valid RMSE: 0.888 (Best: 0.888) Counter: 3\n",
      "Epoch 42, Train RMSE: 0.657 Valid RMSE: 0.888 (Best: 0.888) Counter: 4\n",
      "Epoch 43, Train RMSE: 0.655 Valid RMSE: 0.888 (Best: 0.888) Counter: 5\n",
      "Epoch 44, Train RMSE: 0.653 Valid RMSE: 0.888 (Best: 0.888) Counter: 6\n",
      "Breaking at epoch 43\n"
     ]
    }
   ],
   "source": [
    "all_models = []\n",
    "all_train_losses = {}\n",
    "all_val_losses = {}\n",
    "from sklearn.model_selection import train_test_split\n",
    "for k in range(5):\n",
    "    baseline_model = BiasPredictor(store_loss=True)\n",
    "\n",
    "    sub_train_data, val_data = train_test_split(train_tuples, test_size=0.2, random_state=k)\n",
    "\n",
    "    baseline_model.fit_with_validation(sub_train_data, val_data, n_epochs=100)\n",
    "\n",
    "    all_train_losses[k] = baseline_model.train_losses\n",
    "    all_val_losses[k] = baseline_model.val_losses\n",
    "\n",
    "    all_models.append(baseline_model)\n",
    "    "
   ]
  },
  {
   "cell_type": "code",
   "execution_count": 35,
   "id": "5a379f28",
   "metadata": {},
   "outputs": [
    {
     "data": {
      "text/plain": [
       "array([3.3, 5.5])"
      ]
     },
     "execution_count": 35,
     "metadata": {},
     "output_type": "execute_result"
    }
   ],
   "source": [
    "\n",
    "\n",
    "sns.utils.ci(sns.algorithms.bootstrap([5.5, 3.3]))\n"
   ]
  },
  {
   "cell_type": "code",
   "execution_count": 49,
   "id": "69625405",
   "metadata": {},
   "outputs": [
    {
     "data": {
      "image/png": "[encoded data removed]",
      "text/plain": [
       "<Figure size 2000x300 with 5 Axes>"
      ]
     },
     "metadata": {},
     "output_type": "display_data"
    }
   ],
   "source": [
    "import matplotlib.pyplot as plt\n",
    "import seaborn as sns\n",
    "\n",
    "sns.set_context('talk')\n",
    "\n",
    "fig, ax = plt.subplots(1, 5, figsize=(20,3))\n",
    "\n",
    "for k in range(5):\n",
    "    sns.lineplot(x=range(len(all_train_losses[k])), y=all_train_losses[k], ax=ax[k], label='Train')\n",
    "    sns.lineplot(x=range(len(all_val_losses[k])), y=all_val_losses[k], ax=ax[k], label='Val')\n",
    "    ax[k].set_title(f\"Fold {k}\")\n",
    "    ax[k].set_xlabel(\"Epoch\")\n",
    "    if k == 0:\n",
    "        ax[k].set_ylabel(\"RMSE\")\n",
    "\n",
    "    if k > 0:\n",
    "        ax[k].set_yticklabels([])\n",
    "    ax[k].legend()\n",
    "\n",
    "# plt.tight_layout()\n",
    "plt.savefig('fold_loss_curves.pdf', bbox_inches='tight')\n",
    "\n",
    "\n"
   ]
  },
  {
   "cell_type": "code",
   "execution_count": 12,
   "id": "16299579",
   "metadata": {
    "execution": {
     "iopub.execute_input": "2024-12-19T16:13:18.151266Z",
     "iopub.status.busy": "2024-12-19T16:13:18.150856Z",
     "iopub.status.idle": "2024-12-19T16:13:18.190922Z",
     "shell.execute_reply": "2024-12-19T16:13:18.189726Z"
    },
    "papermill": {
     "duration": 0.057331,
     "end_time": "2024-12-19T16:13:18.193065",
     "exception": false,
     "start_time": "2024-12-19T16:13:18.135734",
     "status": "completed"
    },
    "tags": []
   },
   "outputs": [],
   "source": [
    "custom_test_tuples = [(int(x[1]), int(x[2]), -1) for x in custom_df_test.to_numpy()]"
   ]
  },
  {
   "cell_type": "code",
   "execution_count": 13,
   "id": "bfb8bdb7",
   "metadata": {
    "execution": {
     "iopub.execute_input": "2024-12-19T16:13:18.223295Z",
     "iopub.status.busy": "2024-12-19T16:13:18.222936Z",
     "iopub.status.idle": "2024-12-19T16:13:18.412096Z",
     "shell.execute_reply": "2024-12-19T16:13:18.411051Z"
    },
    "papermill": {
     "duration": 0.206752,
     "end_time": "2024-12-19T16:13:18.414156",
     "exception": false,
     "start_time": "2024-12-19T16:13:18.207404",
     "status": "completed"
    },
    "tags": []
   },
   "outputs": [],
   "source": [
    "preds = []\n",
    "for user_id, item_id, rating in custom_test_tuples:\n",
    "    pred = 0\n",
    "    for model in all_models:\n",
    "        model_pred = model.predict(user_id, item_id)\n",
    "        pred += model_pred\n",
    "    pred = pred / 5\n",
    "    preds.append(pred)"
   ]
  },
  {
   "cell_type": "code",
   "execution_count": 14,
   "id": "feeff736",
   "metadata": {
    "execution": {
     "iopub.execute_input": "2024-12-19T16:13:18.444055Z",
     "iopub.status.busy": "2024-12-19T16:13:18.443687Z",
     "iopub.status.idle": "2024-12-19T16:13:18.458414Z",
     "shell.execute_reply": "2024-12-19T16:13:18.457366Z"
    },
    "papermill": {
     "duration": 0.031759,
     "end_time": "2024-12-19T16:13:18.460441",
     "exception": false,
     "start_time": "2024-12-19T16:13:18.428682",
     "status": "completed"
    },
    "tags": []
   },
   "outputs": [],
   "source": [
    "submission_df = df_test.copy()\n",
    "submission_df = submission_df.drop(['book_id', 'user_id'], axis=1)\n",
    "submission_df['rating'] = preds"
   ]
  },
  {
   "cell_type": "code",
   "execution_count": 15,
   "id": "8543220b",
   "metadata": {},
   "outputs": [
    {
     "data": {
      "text/html": [
       "<div>\n",
       "<style scoped>\n",
       "    .dataframe tbody tr th:only-of-type {\n",
       "        vertical-align: middle;\n",
       "    }\n",
       "\n",
       "    .dataframe tbody tr th {\n",
       "        vertical-align: top;\n",
       "    }\n",
       "\n",
       "    .dataframe thead th {\n",
       "        text-align: right;\n",
       "    }\n",
       "</style>\n",
       "<table border=\"1\" class=\"dataframe\">\n",
       "  <thead>\n",
       "    <tr style=\"text-align: right;\">\n",
       "      <th></th>\n",
       "      <th>id</th>\n",
       "      <th>rating</th>\n",
       "    </tr>\n",
       "  </thead>\n",
       "  <tbody>\n",
       "    <tr>\n",
       "      <th>0</th>\n",
       "      <td>0</td>\n",
       "      <td>1.957814</td>\n",
       "    </tr>\n",
       "    <tr>\n",
       "      <th>1</th>\n",
       "      <td>1</td>\n",
       "      <td>2.008386</td>\n",
       "    </tr>\n",
       "    <tr>\n",
       "      <th>2</th>\n",
       "      <td>2</td>\n",
       "      <td>1.370347</td>\n",
       "    </tr>\n",
       "    <tr>\n",
       "      <th>3</th>\n",
       "      <td>3</td>\n",
       "      <td>2.367723</td>\n",
       "    </tr>\n",
       "    <tr>\n",
       "      <th>4</th>\n",
       "      <td>4</td>\n",
       "      <td>2.384439</td>\n",
       "    </tr>\n",
       "  </tbody>\n",
       "</table>\n",
       "</div>"
      ],
      "text/plain": [
       "   id    rating\n",
       "0   0  1.957814\n",
       "1   1  2.008386\n",
       "2   2  1.370347\n",
       "3   3  2.367723\n",
       "4   4  2.384439"
      ]
     },
     "execution_count": 15,
     "metadata": {},
     "output_type": "execute_result"
    }
   ],
   "source": [
    "submission_df.head()"
   ]
  },
  {
   "cell_type": "code",
   "execution_count": 12,
   "id": "4e06118b",
   "metadata": {
    "execution": {
     "iopub.execute_input": "2024-12-19T16:13:18.490283Z",
     "iopub.status.busy": "2024-12-19T16:13:18.489914Z",
     "iopub.status.idle": "2024-12-19T16:13:18.504070Z",
     "shell.execute_reply": "2024-12-19T16:13:18.503020Z"
    },
    "papermill": {
     "duration": 0.031179,
     "end_time": "2024-12-19T16:13:18.505896",
     "exception": false,
     "start_time": "2024-12-19T16:13:18.474717",
     "status": "completed"
    },
    "tags": []
   },
   "outputs": [
    {
     "data": {
      "text/html": [
       "<div>\n",
       "<style scoped>\n",
       "    .dataframe tbody tr th:only-of-type {\n",
       "        vertical-align: middle;\n",
       "    }\n",
       "\n",
       "    .dataframe tbody tr th {\n",
       "        vertical-align: top;\n",
       "    }\n",
       "\n",
       "    .dataframe thead th {\n",
       "        text-align: right;\n",
       "    }\n",
       "</style>\n",
       "<table border=\"1\" class=\"dataframe\">\n",
       "  <thead>\n",
       "    <tr style=\"text-align: right;\">\n",
       "      <th></th>\n",
       "      <th>id</th>\n",
       "      <th>rating</th>\n",
       "    </tr>\n",
       "  </thead>\n",
       "  <tbody>\n",
       "    <tr>\n",
       "      <th>0</th>\n",
       "      <td>0</td>\n",
       "      <td>1.959519</td>\n",
       "    </tr>\n",
       "    <tr>\n",
       "      <th>1</th>\n",
       "      <td>1</td>\n",
       "      <td>2.005657</td>\n",
       "    </tr>\n",
       "    <tr>\n",
       "      <th>2</th>\n",
       "      <td>2</td>\n",
       "      <td>1.364444</td>\n",
       "    </tr>\n",
       "    <tr>\n",
       "      <th>3</th>\n",
       "      <td>3</td>\n",
       "      <td>2.377260</td>\n",
       "    </tr>\n",
       "    <tr>\n",
       "      <th>4</th>\n",
       "      <td>4</td>\n",
       "      <td>2.380715</td>\n",
       "    </tr>\n",
       "  </tbody>\n",
       "</table>\n",
       "</div>"
      ],
      "text/plain": [
       "   id    rating\n",
       "0   0  1.959519\n",
       "1   1  2.005657\n",
       "2   2  1.364444\n",
       "3   3  2.377260\n",
       "4   4  2.380715"
      ]
     },
     "execution_count": 12,
     "metadata": {},
     "output_type": "execute_result"
    }
   ],
   "source": [
    "submission_df.head()"
   ]
  },
  {
   "cell_type": "code",
   "execution_count": 13,
   "id": "17f7fb14",
   "metadata": {
    "execution": {
     "iopub.execute_input": "2024-12-19T16:13:18.536521Z",
     "iopub.status.busy": "2024-12-19T16:13:18.536088Z",
     "iopub.status.idle": "2024-12-19T16:13:18.609734Z",
     "shell.execute_reply": "2024-12-19T16:13:18.608439Z"
    },
    "papermill": {
     "duration": 0.090788,
     "end_time": "2024-12-19T16:13:18.611735",
     "exception": false,
     "start_time": "2024-12-19T16:13:18.520947",
     "status": "completed"
    },
    "tags": []
   },
   "outputs": [],
   "source": [
    "submission_df.to_csv('submission.csv', index=False)"
   ]
  },
  {
   "cell_type": "code",
   "execution_count": null,
   "id": "09e0a821",
   "metadata": {
    "papermill": {
     "duration": 0.014126,
     "end_time": "2024-12-19T16:13:18.640181",
     "exception": false,
     "start_time": "2024-12-19T16:13:18.626055",
     "status": "completed"
    },
    "tags": []
   },
   "outputs": [],
   "source": []
  }
 ],
 "metadata": {
  "kaggle": {
   "accelerator": "none",
   "dataSources": [
    {
     "databundleVersionId": 9915979,
     "sourceId": 87197,
     "sourceType": "competition"
    }
   ],
   "dockerImageVersionId": 30822,
   "isGpuEnabled": false,
   "isInternetEnabled": true,
   "language": "python",
   "sourceType": "notebook"
  },
  "kernelspec": {
   "display_name": ".venv",
   "language": "python",
   "name": "python3"
  },
  "language_info": {
   "codemirror_mode": {
    "name": "ipython",
    "version": 3
   },
   "file_extension": ".py",
   "mimetype": "text/x-python",
   "name": "python",
   "nbconvert_exporter": "python",
   "pygments_lexer": "ipython3",
   "version": "3.12.7"
  },
  "papermill": {
   "default_parameters": {},
   "duration": 58.740864,
   "end_time": "2024-12-19T16:13:19.376654",
   "environment_variables": {},
   "exception": null,
   "input_path": "__notebook__.ipynb",
   "output_path": "__notebook__.ipynb",
   "parameters": {},
   "start_time": "2024-12-19T16:12:20.635790",
   "version": "2.6.0"
  }
 },
 "nbformat": 4,
 "nbformat_minor": 5
}
